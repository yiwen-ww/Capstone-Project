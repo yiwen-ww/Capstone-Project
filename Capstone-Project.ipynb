import pandas as pd
import numpy as np
print("Hello Capstone Project Course!")
Hello Capstone Project Course!
