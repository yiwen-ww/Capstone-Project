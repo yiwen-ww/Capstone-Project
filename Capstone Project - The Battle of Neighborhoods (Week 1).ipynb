{
 "cells": [
  {
   "cell_type": "markdown",
   "id": "5ecdd450",
   "metadata": {},
   "source": [
    "# Capstone Project - The Battle of Neighborhoods (Week 1)"
   ]
  },
  {
   "cell_type": "markdown",
   "id": "bbab5d78",
   "metadata": {},
   "source": [
    "Now that you have been equipped with the skills and the tools to use location data to explore a geographical location, over the course of two weeks, you will have the opportunity to be as creative as you want and come up with an idea to leverage the Foursquare location data to explore or compare neighborhoods or cities of your choice or to come up with a problem that you can use the Foursquare location data to solve. If you cannot think of an idea or a problem, here are some ideas to get you started:\n",
    "\n",
    "1.In Module 3, we explored New York City and the city of Toronto and segmented and clustered their neighborhoods. Both cities are very diverse and are the financial capitals of their respective countries. One interesting idea would be to compare the neighborhoods of the two cities and determine how similar or dissimilar they are. Is New York City more like Toronto or Paris or some other multicultural city? I will leave it to you to refine this idea.\n",
    "\n",
    "2.In a city of your choice, if someone is looking to open a restaurant, where would you recommend that they open it? Similarly, if a contractor is trying to start their own business, where would you recommend that they setup their office?\n",
    "\n",
    "These are just a couple of many ideas and problems that can be solved using location data in addition to other datasets. No matter what you decide to do, make sure to provide sufficient justification of why you think what you want to do or solve is important and why would a client or a group of people be interested in your project."
   ]
  },
  {
   "cell_type": "markdown",
   "id": "a47bdaef",
   "metadata": {},
   "source": [
    "For this week, you will required to submit the following:\n",
    "\n",
    "A description of the problem and a discussion of the background. (15 marks)\n",
    "\n",
    "A description of the data and how it will be used to solve the problem. (15 marks)\n",
    "\n",
    "For the second week, the final deliverables of the project will be:\n",
    "\n",
    "A link to your Notebook on your Github repository, showing your code. (15 marks)"
   ]
  },
  {
   "cell_type": "markdown",
   "id": "ab7ef3a3",
   "metadata": {},
   "source": [
    "\n",
    "## A description of the problem and a discussion of the background. (15 marks)"
   ]
  },
  {
   "cell_type": "markdown",
   "id": "1ff3c78a",
   "metadata": {},
   "source": [
    "### A description of the problem"
   ]
  },
  {
   "cell_type": "markdown",
   "id": "7821b90c",
   "metadata": {},
   "source": [
    "We explored New York and Toronto as well as clustering in the previous exercise.\n",
    "\n",
    "Is New York City more like Toronto or Paris or some other multicultural city?\n",
    "\n",
    "In a city of my choice, if someone is looking to open a restaurant, where would you recommend that they open it? Similarly, if a contractor is trying to start their own business, where would you recommend that they setup their office?"
   ]
  },
  {
   "cell_type": "markdown",
   "id": "2d643c62",
   "metadata": {},
   "source": [
    "### A discussion of the background"
   ]
  },
  {
   "cell_type": "markdown",
   "id": "676cc8e6",
   "metadata": {},
   "source": [
    "New York City is the center of global business and trade and the world's most important financial center, in addition to being the nation's leading hub for insurance, real estate, media and the arts. According to 2010 statistics, the New York metropolitan area has a GDP of approximately $1.28 trillion, more than the entire country of Mexico combined, making it the largest regional economy in the United States.\n",
    "\n",
    "New York controls 40\\% of the world's financial capital and is the world's largest financial center, with the New York Stock Exchange on Wall Street being the most traded exchange in the world. Many major corporations are headquartered in New York City, with 45 of the Fortune 500 companies headquartered there. New York has a higher percentage of foreign companies than other major U.S. cities, with an average of one out of every ten jobs held by foreign companies. Midtown Manhattan is the largest central business district in the country. Financial services account for 35 percent of the city's citizens' income."
   ]
  },
  {
   "cell_type": "markdown",
   "id": "1a447058",
   "metadata": {},
   "source": [
    "1.someone wants to open a restaurant in New York, wants to know where they should open it."
   ]
  },
  {
   "cell_type": "markdown",
   "id": "ae9c1f2a",
   "metadata": {},
   "source": [
    "2.A contrctor is trying to start their own business ,wants to know where they should setup their office?"
   ]
  },
  {
   "cell_type": "markdown",
   "id": "a00adc22",
   "metadata": {},
   "source": [
    "### A description of the data and how it will be used to solve the problem. (15 marks)\n",
    "\n"
   ]
  },
  {
   "cell_type": "markdown",
   "id": "14b032e8",
   "metadata": {},
   "source": [
    "#### Data"
   ]
  },
  {
   "cell_type": "markdown",
   "id": "37ebecac",
   "metadata": {},
   "source": [
    "1. The type and number of restaurant industries in each region of New York, and their regional distribution.\n",
    "\n",
    "2. Number of office buildings in each region.\n",
    "\n",
    "3. Annual GDP of the restaurant industry by region \n",
    "\n",
    "4. New York Population\n",
    "\n",
    "5. Demographics of New York City\n",
    "\n",
    "6. Number of  farmers' market\n",
    "\n",
    "7. Number of gyms, recreation areas, parks, etc. such area with high transient populations?\n",
    "\n",
    "8. the competitors in the area\n",
    "\n",
    "9. the character of competition\n"
   ]
  },
  {
   "cell_type": "markdown",
   "id": "756ab92d",
   "metadata": {},
   "source": [
    "#### how it will be used to solve the problem."
   ]
  },
  {
   "cell_type": "markdown",
   "id": "339634da",
   "metadata": {},
   "source": [
    "Through cluster analysis to obtain the competitive advantages and disadvantages of each region, and analyze the competitors of each region"
   ]
  },
  {
   "cell_type": "markdown",
   "id": "21866263",
   "metadata": {},
   "source": []
  }
 ],
 "metadata": {
  "kernelspec": {
   "display_name": "Python 3",
   "language": "python",
   "name": "python3"
  },
  "language_info": {
   "codemirror_mode": {
    "name": "ipython",
    "version": 3
   },
   "file_extension": ".py",
   "mimetype": "text/x-python",
   "name": "python",
   "nbconvert_exporter": "python",
   "pygments_lexer": "ipython3",
   "version": "3.8.8"
  }
 },
 "nbformat": 4,
 "nbformat_minor": 5
}
